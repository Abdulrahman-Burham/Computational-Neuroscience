{
 "cells": [
  {
   "cell_type": "code",
   "execution_count": 1,
   "id": "c41362bf",
   "metadata": {},
   "outputs": [],
   "source": [
    "import math\n",
    "\n",
    "def sigmoid(x):\n",
    "    return 1 / (1 + math.exp(-x))\n",
    "\n"
   ]
  },
  {
   "cell_type": "code",
   "execution_count": 2,
   "id": "81d3b1f0",
   "metadata": {},
   "outputs": [],
   "source": [
    "\n",
    "def sigmoid_derivative(x):\n",
    "    return x * (1 - x)"
   ]
  },
  {
   "cell_type": "code",
   "execution_count": 3,
   "id": "07bc4a52",
   "metadata": {},
   "outputs": [],
   "source": [
    "\n",
    "def initialize_weights():\n",
    "    weights = {\n",
    "        \"w1\": 0.15, \"w2\": 0.2, \"w3\": 0.25, \"w4\": 0.3,\n",
    "        \"w5\": 0.4, \"w6\": 0.45, \"w7\": 0.5, \"w8\": 0.55,\n",
    "    }\n",
    "    biases = {\"b1\": 0.35, \"b2\": 0.6}\n",
    "    return weights, biases\n"
   ]
  },
  {
   "cell_type": "code",
   "execution_count": 4,
   "id": "42e9be8e",
   "metadata": {},
   "outputs": [],
   "source": [
    "\n",
    "def forward_propagation(weights, biases, inputs):\n",
    "    net_h1 = inputs[0] * weights[\"w1\"] + inputs[1] * weights[\"w2\"] + biases[\"b1\"]\n",
    "    net_h2 = inputs[0] * weights[\"w3\"] + inputs[1] * weights[\"w4\"] + biases[\"b1\"]\n",
    "    \n",
    "    out_h1 = sigmoid(net_h1)\n",
    "    out_h2 = sigmoid(net_h2)\n",
    "    \n",
    "    net_o1 = out_h1 * weights[\"w5\"] + out_h2 * weights[\"w6\"] + biases[\"b2\"]\n",
    "    net_o2 = out_h1 * weights[\"w7\"] + out_h2 * weights[\"w8\"] + biases[\"b2\"]\n",
    "    \n",
    "    out_o1 = sigmoid(net_o1)\n",
    "    out_o2 = sigmoid(net_o2)\n",
    "    \n",
    "    return (net_h1, net_h2, out_h1, out_h2, net_o1, net_o2, out_o1, out_o2)\n"
   ]
  },
  {
   "cell_type": "code",
   "execution_count": 5,
   "id": "07995fc0",
   "metadata": {},
   "outputs": [],
   "source": [
    "\n",
    "def backward_propagation(weights, biases, inputs, targets, learning_rate):\n",
    "    net_h1, net_h2, out_h1, out_h2, net_o1, net_o2, out_o1, out_o2 = forward_propagation(weights, biases, inputs)\n",
    "    \n",
    "    target_o1, target_o2 = targets\n",
    "    \n",
    "    error_o1 = 0.5 * (target_o1 - out_o1) ** 2\n",
    "    error_o2 = 0.5 * (target_o2 - out_o2) ** 2\n",
    "    \n",
    "    delta_o1 = -(target_o1 - out_o1) * sigmoid_derivative(out_o1)\n",
    "    delta_o2 = -(target_o2 - out_o2) * sigmoid_derivative(out_o2)\n",
    "    \n",
    "    weights[\"w5\"] -= learning_rate * delta_o1 * out_h1\n",
    "    weights[\"w6\"] -= learning_rate * delta_o1 * out_h2\n",
    "    weights[\"w7\"] -= learning_rate * delta_o2 * out_h1\n",
    "    weights[\"w8\"] -= learning_rate * delta_o2 * out_h2\n",
    "    biases[\"b2\"] -= learning_rate * (delta_o1 + delta_o2)\n",
    "    \n",
    "    delta_h1 = (delta_o1 * weights[\"w5\"] + delta_o2 * weights[\"w7\"]) * sigmoid_derivative(out_h1)\n",
    "    delta_h2 = (delta_o1 * weights[\"w6\"] + delta_o2 * weights[\"w8\"]) * sigmoid_derivative(out_h2)\n",
    "    \n",
    "    weights[\"w1\"] -= learning_rate * delta_h1 * inputs[0]\n",
    "    weights[\"w2\"] -= learning_rate * delta_h1 * inputs[1]\n",
    "    weights[\"w3\"] -= learning_rate * delta_h2 * inputs[0]\n",
    "    weights[\"w4\"] -= learning_rate * delta_h2 * inputs[1]\n",
    "    biases[\"b1\"] -= learning_rate * (delta_h1 + delta_h2)\n",
    "    \n",
    "    return error_o1 + error_o2\n"
   ]
  },
  {
   "cell_type": "code",
   "execution_count": 6,
   "id": "bc6e6831",
   "metadata": {},
   "outputs": [],
   "source": [
    "\n",
    "def train_network(epochs, learning_rate):\n",
    "    weights, biases = initialize_weights()\n",
    "    inputs = [0.05, 0.1]\n",
    "    targets = [0.01, 0.99]\n",
    "    \n",
    "    for epoch in range(epochs):\n",
    "        error = backward_propagation(weights, biases, inputs, targets, learning_rate)\n",
    "        if epoch % 1000 == 0:\n",
    "            print(f\"Epoch {epoch}, Error: {error}\")\n",
    "    \n",
    "    return weights, biases\n"
   ]
  },
  {
   "cell_type": "code",
   "execution_count": 7,
   "id": "57239c9a",
   "metadata": {},
   "outputs": [
    {
     "name": "stdout",
     "output_type": "stream",
     "text": [
      "Epoch 0, Error: 0.2983711087600027\n",
      "Epoch 1000, Error: 0.27261959793908763\n",
      "Epoch 2000, Error: 0.2462717987271892\n",
      "Epoch 3000, Error: 0.22061753499870668\n",
      "Epoch 4000, Error: 0.19675109149100464\n",
      "Epoch 5000, Error: 0.17532363171428308\n",
      "Epoch 6000, Error: 0.1565155672267263\n",
      "Epoch 7000, Error: 0.14017579799958402\n",
      "Epoch 8000, Error: 0.1259980752688187\n",
      "Epoch 9000, Error: 0.11364898970795606\n",
      "Trained Weights: {'w1': 0.15361085615402523, 'w2': 0.20722171230805356, 'w3': 0.25320611263616777, 'w4': 0.30641222527233763, 'w5': -0.3416024241580029, 'w6': -0.29606739092267176, 'w7': 0.8140613539718429, 'w8': 0.8659388775302906}\n",
      "Trained Biases: {'b1': 0.4863393758039135, 'b2': -0.11926529803187451}\n"
     ]
    }
   ],
   "source": [
    "\n",
    "if __name__ == \"__main__\":\n",
    "    trained_weights, trained_biases = train_network(epochs=10000, learning_rate=0.001)\n",
    "    print(\"Trained Weights:\", trained_weights)\n",
    "    print(\"Trained Biases:\", trained_biases)\n"
   ]
  },
  {
   "cell_type": "code",
   "execution_count": null,
   "id": "be66a31b",
   "metadata": {},
   "outputs": [],
   "source": []
  },
  {
   "cell_type": "code",
   "execution_count": 9,
   "id": "1fb901b7",
   "metadata": {},
   "outputs": [
    {
     "data": {
      "text/plain": [
       "''"
      ]
     },
     "execution_count": 9,
     "metadata": {},
     "output_type": "execute_result"
    }
   ],
   "source": [
    "\"\""
   ]
  },
  {
   "cell_type": "code",
   "execution_count": null,
   "id": "928a2a35",
   "metadata": {},
   "outputs": [],
   "source": []
  }
 ],
 "metadata": {
  "kernelspec": {
   "display_name": "Python 3 (ipykernel)",
   "language": "python",
   "name": "python3"
  },
  "language_info": {
   "codemirror_mode": {
    "name": "ipython",
    "version": 3
   },
   "file_extension": ".py",
   "mimetype": "text/x-python",
   "name": "python",
   "nbconvert_exporter": "python",
   "pygments_lexer": "ipython3",
   "version": "3.9.12"
  }
 },
 "nbformat": 4,
 "nbformat_minor": 5
}
