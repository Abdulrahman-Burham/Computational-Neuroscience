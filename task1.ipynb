{
 "cells": [
  {
   "cell_type": "code",
   "execution_count": 26,
   "id": "d4a8aa22",
   "metadata": {},
   "outputs": [
    {
     "name": "stdout",
     "output_type": "stream",
     "text": [
      "\n",
      "Artificial Neural Network (ANN) Output:\n",
      "Input Layer: x1 = 0.3, x2 = -0.7\n",
      "Hidden Layer Outputs: h1 = 0.597, h2 = 0.592, h3 = 0.587\n",
      "Output Layer Result: y = -0.046\n"
     ]
    }
   ],
   "source": [
    "# Define the tanh activation function\n",
    "def tanh(x):\n",
    "    return (2 / (1 + pow(2.71828, -2*x))) - 1  \n",
    "\n",
    "def random_weight(seed):\n",
    "    \n",
    "    \n",
    "    \n",
    "    return -0.5 + (seed % 100 / 100) * (0.5 - (-0.5))  \n",
    "\n",
    "\n",
    "x1, x2 = 0.3, -0.7  # Example inputs\n",
    "\n",
    "w11, w12 = random_weight(1), random_weight(2)  \n",
    "w21, w22 = random_weight(3), random_weight(4)  \n",
    "w31, w32 = random_weight(5), random_weight(6) \n",
    "\n",
    "b1 = 0.5  \n",
    "\n",
    "h1 = tanh(w11 * x1 + w12 * x2 + b1)\n",
    "h2 = tanh(w21 * x1 + w22 * x2 + b1)\n",
    "h3 = tanh(w31 * x1 + w32 * x2 + b1)\n",
    "\n",
    "w41, w42, w43 = random_weight(7), random_weight(8), random_weight(9)  \n",
    "\n",
    "b2 = 0.7  \n",
    "\n",
    "\n",
    "output = tanh(w41 * h1 + w42 * h2 + w43 * h3 + b2)\n",
    "\n",
    "\n",
    "print(\"\\nArtificial Neural Network (ANN) Output:\")\n",
    "print(f\"Input Layer: x1 = {x1}, x2 = {x2}\")\n",
    "print(f\"Hidden Layer Outputs: h1 = {h1:.3f}, h2 = {h2:.3f}, h3 = {h3:.3f}\")\n",
    "print(f\"Output Layer Result: y = {output:.3f}\")\n"
   ]
  },
  {
   "cell_type": "code",
   "execution_count": 27,
   "id": "30c002e0",
   "metadata": {},
   "outputs": [
    {
     "name": "stdout",
     "output_type": "stream",
     "text": [
      "\n",
      "Comparison of ANN With and Without Activation Function:\n",
      "Input Layer: x1 = 0.3, x2 = -0.7\n",
      "\n",
      "Hidden Layer Outputs (With Activation Function):\n",
      "  h1 = 0.597, h2 = 0.592, h3 = 0.587\n",
      "\n",
      "Hidden Layer Outputs (Without Activation Function):\n",
      "  h1 = 0.689, h2 = 0.681, h3 = 0.673\n",
      "\n",
      "Final Output:\n",
      "  With Activation Function (tanh): y = -0.046\n",
      "  Without Activation Function (Linear): y = -0.158\n"
     ]
    }
   ],
   "source": [
    "def tanh(x):\n",
    "    return (2 / (1 + pow(2.71828, -2*x))) - 1 \n",
    "\n",
    "def random_weight(seed):\n",
    "    return -0.5 + (seed % 100 / 100) * (0.5 - (-0.5)) \n",
    "x1, x2 = 0.3, -0.7  \n",
    "\n",
    "w11, w12 = random_weight(1), random_weight(2) \n",
    "w21, w22 = random_weight(3), random_weight(4)  \n",
    "w31, w32 = random_weight(5), random_weight(6)  \n",
    "\n",
    "b1 = 0.5  \n",
    "\n",
    "h1_tanh = tanh(w11 * x1 + w12 * x2 + b1)\n",
    "h2_tanh = tanh(w21 * x1 + w22 * x2 + b1)\n",
    "h3_tanh = tanh(w31 * x1 + w32 * x2 + b1)\n",
    "\n",
    "h1_linear = w11 * x1 + w12 * x2 + b1\n",
    "h2_linear = w21 * x1 + w22 * x2 + b1\n",
    "h3_linear = w31 * x1 + w32 * x2 + b1\n",
    "\n",
    "w41, w42, w43 = random_weight(7), random_weight(8), random_weight(9)  # Weights for output neuron\n",
    "b2 = 0.7  \n",
    "\n",
    "output_tanh = tanh(w41 * h1_tanh + w42 * h2_tanh + w43 * h3_tanh + b2)\n",
    "\n",
    "output_linear = w41 * h1_linear + w42 * h2_linear + w43 * h3_linear + b2\n",
    "\n",
    "print(\"\\nComparison of ANN With and Without Activation Function:\")\n",
    "print(f\"Input Layer: x1 = {x1}, x2 = {x2}\")\n",
    "\n",
    "print(\"\\nHidden Layer Outputs (With Activation Function):\")\n",
    "print(f\"  h1 = {h1_tanh:.3f}, h2 = {h2_tanh:.3f}, h3 = {h3_tanh:.3f}\")\n",
    "\n",
    "print(\"\\nHidden Layer Outputs (Without Activation Function):\")\n",
    "print(f\"  h1 = {h1_linear:.3f}, h2 = {h2_linear:.3f}, h3 = {h3_linear:.3f}\")\n",
    "\n",
    "print(\"\\nFinal Output:\")\n",
    "print(f\"  With Activation Function (tanh): y = {output_tanh:.3f}\")\n",
    "print(f\"  Without Activation Function (Linear): y = {output_linear:.3f}\")\n"
   ]
  },
  {
   "cell_type": "code",
   "execution_count": 28,
   "id": "09090bf6",
   "metadata": {},
   "outputs": [
    {
     "data": {
      "image/png": "[encoded data removed]",
      "text/plain": [
       "<Figure size 576x360 with 1 Axes>"
      ]
     },
     "metadata": {
      "needs_background": "light"
     },
     "output_type": "display_data"
    }
   ],
   "source": [
    "import numpy as np\n",
    "import matplotlib.pyplot as plt\n",
    "\n",
    "def tanh(x):\n",
    "    return (2 / (1 + np.exp(-2*x))) - 1\n",
    "\n",
    "np.random.seed(42) \n",
    "weights = np.random.uniform(-0.5, 0.5, 9) \n",
    "x1, x2 = 0.3, -0.7\n",
    "\n",
    "w11, w12, w21, w22, w31, w32 = weights[:6]\n",
    "b1 = 0.5\n",
    "\n",
    "h1_tanh = tanh(w11 * x1 + w12 * x2 + b1)\n",
    "h2_tanh = tanh(w21 * x1 + w22 * x2 + b1)\n",
    "h3_tanh = tanh(w31 * x1 + w32 * x2 + b1)\n",
    "\n",
    "h1_linear = w11 * x1 + w12 * x2 + b1\n",
    "h2_linear = w21 * x1 + w22 * x2 + b1\n",
    "h3_linear = w31 * x1 + w32 * x2 + b1\n",
    "\n",
    "w41, w42, w43 = weights[6:9]\n",
    "\n",
    "b2 = 0.7\n",
    "\n",
    "output_tanh = tanh(w41 * h1_tanh + w42 * h2_tanh + w43 * h3_tanh + b2)\n",
    "\n",
    "output_linear = w41 * h1_linear + w42 * h2_linear + w43 * h3_linear + b2\n",
    "\n",
    "labels = ['h1', 'h2', 'h3', 'Output']\n",
    "values_tanh = [h1_tanh, h2_tanh, h3_tanh, output_tanh]\n",
    "values_linear = [h1_linear, h2_linear, h3_linear, output_linear]\n",
    "\n",
    "x = np.arange(len(labels))\n",
    "width = 0.15\n",
    "\n",
    "fig, ax = plt.subplots(figsize=(8, 5))\n",
    "bars1 = ax.bar(x - width/2, values_tanh, width, label=\"With Activation (tanh)\", color='b', alpha=0.7)\n",
    "bars2 = ax.bar(x + width/2, values_linear, width, label=\"Without Activation\", color='r', alpha=0.7)\n",
    "\n",
    "ax.set_xlabel(\"Neurons\")\n",
    "ax.set_ylabel(\"Activation Value\")\n",
    "ax.set_title(\"ANN Outputs: With vs Without Activation Function\")\n",
    "ax.set_xticks(x)\n",
    "ax.set_xticklabels(labels)\n",
    "ax.legend()\n",
    "\n",
    "plt.show()\n"
   ]
  },
  {
   "cell_type": "code",
   "execution_count": 29,
   "id": "7509644e",
   "metadata": {},
   "outputs": [
    {
     "data": {
      "image/png": "[encoded data removed]",
      "text/plain": [
       "<Figure size 576x360 with 1 Axes>"
      ]
     },
     "metadata": {
      "needs_background": "light"
     },
     "output_type": "display_data"
    }
   ],
   "source": [
    "def sigmoid(x):\n",
    "    return 1 / (1 + np.exp(-x))\n",
    "\n",
    "h1_sigmoid = sigmoid(w11 * x1 + w12 * x2 + b1)\n",
    "h2_sigmoid = sigmoid(w21 * x1 + w22 * x2 + b1)\n",
    "h3_sigmoid = sigmoid(w31 * x1 + w32 * x2 + b1)\n",
    "\n",
    "output_sigmoid = sigmoid(w41 * h1_sigmoid + w42 * h2_sigmoid + w43 * h3_sigmoid + b2)\n",
    "\n",
    "values_sigmoid = [h1_sigmoid, h2_sigmoid, h3_sigmoid, output_sigmoid]\n",
    "\n",
    "fig, ax = plt.subplots(figsize=(8, 5))\n",
    "bars1 = ax.bar(x - width/2, values_sigmoid, width, label=\"With Activation (Sigmoid)\", color='g', alpha=0.5)\n",
    "bars2 = ax.bar(x + width/2, values_linear, width, label=\"Without Activation\", color='b', alpha=1)\n",
    "\n",
    "ax.set_xlabel(\"Neurons\")\n",
    "ax.set_ylabel(\"Activation Value\")\n",
    "ax.set_title(\"ANN Outputs: Sigmoid vs Without Activation Function\")\n",
    "ax.set_xticks(x)\n",
    "ax.set_xticklabels(labels)\n",
    "ax.legend()\n",
    "plt.show()\n"
   ]
  },
  {
   "cell_type": "code",
   "execution_count": null,
   "id": "bb26e1ee",
   "metadata": {},
   "outputs": [],
   "source": []
  },
  {
   "cell_type": "code",
   "execution_count": null,
   "id": "4f44af91",
   "metadata": {},
   "outputs": [],
   "source": []
  },
  {
   "cell_type": "code",
   "execution_count": null,
   "id": "2418a1e4",
   "metadata": {},
   "outputs": [],
   "source": []
  }
 ],
 "metadata": {
  "kernelspec": {
   "display_name": "Python 3 (ipykernel)",
   "language": "python",
   "name": "python3"
  },
  "language_info": {
   "codemirror_mode": {
    "name": "ipython",
    "version": 3
   },
   "file_extension": ".py",
   "mimetype": "text/x-python",
   "name": "python",
   "nbconvert_exporter": "python",
   "pygments_lexer": "ipython3",
   "version": "3.9.12"
  }
 },
 "nbformat": 4,
 "nbformat_minor": 5
}
